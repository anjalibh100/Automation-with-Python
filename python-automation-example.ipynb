{
 "cells": [
  {
   "cell_type": "markdown",
   "id": "99ff434a",
   "metadata": {
    "papermill": {
     "duration": 0.004639,
     "end_time": "2024-10-01T04:37:58.575011",
     "exception": false,
     "start_time": "2024-10-01T04:37:58.570372",
     "status": "completed"
    },
    "tags": []
   },
   "source": [
    "**Project Description : This is an example of Python Automation to read data from an authorized website by providing the API-Key.** \n",
    "\n",
    "Refer to REST APIs and Python Documentation.\n",
    "Refer to requests documentation.\n",
    "\n",
    "Preliminary Task : Request for the API-key to access live data.\n",
    "\n",
    "Objective : \n",
    "\n",
    "* To automate python script to read data from a website.\n",
    "* Get the data from the website and write the contents to a txt file. \n",
    "* This may not be effective for large datasets. For large datasets, python pandas may be used to achieve data exploration and analysis objectives."
   ]
  },
  {
   "cell_type": "code",
   "execution_count": 1,
   "id": "daf69b10",
   "metadata": {
    "execution": {
     "iopub.execute_input": "2024-10-01T04:37:58.584904Z",
     "iopub.status.busy": "2024-10-01T04:37:58.584426Z",
     "iopub.status.idle": "2024-10-01T04:37:58.681024Z",
     "shell.execute_reply": "2024-10-01T04:37:58.679989Z"
    },
    "papermill": {
     "duration": 0.104787,
     "end_time": "2024-10-01T04:37:58.683850",
     "exception": false,
     "start_time": "2024-10-01T04:37:58.579063",
     "status": "completed"
    },
    "tags": []
   },
   "outputs": [],
   "source": [
    "import requests"
   ]
  },
  {
   "cell_type": "code",
   "execution_count": 2,
   "id": "5f4f0d7f",
   "metadata": {
    "execution": {
     "iopub.execute_input": "2024-10-01T04:37:58.693950Z",
     "iopub.status.busy": "2024-10-01T04:37:58.692933Z",
     "iopub.status.idle": "2024-10-01T04:37:58.853525Z",
     "shell.execute_reply": "2024-10-01T04:37:58.852268Z"
    },
    "papermill": {
     "duration": 0.168699,
     "end_time": "2024-10-01T04:37:58.856495",
     "exception": false,
     "start_time": "2024-10-01T04:37:58.687796",
     "status": "completed"
    },
    "tags": []
   },
   "outputs": [],
   "source": [
    "url = f\"https://newsapi.org/v2/top-headlines?sources=bbc-news&apiKey=ff7759809f2f4a968927d6f71545ab91\"\n",
    "r = requests.get(url)\n",
    "content = r.json()"
   ]
  },
  {
   "cell_type": "code",
   "execution_count": 3,
   "id": "1253429f",
   "metadata": {
    "execution": {
     "iopub.execute_input": "2024-10-01T04:37:58.866505Z",
     "iopub.status.busy": "2024-10-01T04:37:58.865741Z",
     "iopub.status.idle": "2024-10-01T04:37:58.871295Z",
     "shell.execute_reply": "2024-10-01T04:37:58.870181Z"
    },
    "papermill": {
     "duration": 0.013338,
     "end_time": "2024-10-01T04:37:58.873889",
     "exception": false,
     "start_time": "2024-10-01T04:37:58.860551",
     "status": "completed"
    },
    "tags": []
   },
   "outputs": [
    {
     "name": "stdout",
     "output_type": "stream",
     "text": [
      "{'source': {'id': 'bbc-news', 'name': 'BBC News'}, 'author': 'BBC News', 'title': 'Finding Mr Fox: How a British man allegedly tricked Brazilian sailors into trafficking cocaine', 'description': 'The BBC sets out to find the man allegedly behind a plot to smuggle 1.2 tonnes of cocaine to Europe.', 'url': 'https://www.bbc.co.uk/news/articles/ce9j2nlgezvo', 'urlToImage': 'https://ichef.bbci.co.uk/news/1024/branded_news/91c0/live/9393e770-7cea-11ef-b66d-034eed51208d.jpg', 'publishedAt': '2024-09-30T04:07:16.5779701Z', 'content': 'Such worries were far from their mind when they eventually embarked on their epic journey on 4 August 2017, the Brazilian coastline slowly receding behind them.\\r\\nWith them were an additional crew mem… [+1535 chars]'}\n"
     ]
    }
   ],
   "source": [
    "print(content['articles'][0])"
   ]
  },
  {
   "cell_type": "code",
   "execution_count": 4,
   "id": "d9929d11",
   "metadata": {
    "execution": {
     "iopub.execute_input": "2024-10-01T04:37:58.883857Z",
     "iopub.status.busy": "2024-10-01T04:37:58.883395Z",
     "iopub.status.idle": "2024-10-01T04:37:58.889886Z",
     "shell.execute_reply": "2024-10-01T04:37:58.888685Z"
    },
    "papermill": {
     "duration": 0.014255,
     "end_time": "2024-10-01T04:37:58.892457",
     "exception": false,
     "start_time": "2024-10-01T04:37:58.878202",
     "status": "completed"
    },
    "tags": []
   },
   "outputs": [
    {
     "name": "stdout",
     "output_type": "stream",
     "text": [
      "Finding Mr Fox: How a British man allegedly tricked Brazilian sailors into trafficking cocaine\n"
     ]
    }
   ],
   "source": [
    "print(content['articles'][0]['title'])"
   ]
  },
  {
   "cell_type": "code",
   "execution_count": 5,
   "id": "98916a8d",
   "metadata": {
    "execution": {
     "iopub.execute_input": "2024-10-01T04:37:58.902384Z",
     "iopub.status.busy": "2024-10-01T04:37:58.901955Z",
     "iopub.status.idle": "2024-10-01T04:37:58.907023Z",
     "shell.execute_reply": "2024-10-01T04:37:58.905777Z"
    },
    "papermill": {
     "duration": 0.013678,
     "end_time": "2024-10-01T04:37:58.910246",
     "exception": false,
     "start_time": "2024-10-01T04:37:58.896568",
     "status": "completed"
    },
    "tags": []
   },
   "outputs": [],
   "source": [
    "import os"
   ]
  },
  {
   "cell_type": "code",
   "execution_count": 6,
   "id": "b6a0c499",
   "metadata": {
    "execution": {
     "iopub.execute_input": "2024-10-01T04:37:58.920767Z",
     "iopub.status.busy": "2024-10-01T04:37:58.920319Z",
     "iopub.status.idle": "2024-10-01T04:37:59.118614Z",
     "shell.execute_reply": "2024-10-01T04:37:59.117243Z"
    },
    "papermill": {
     "duration": 0.207033,
     "end_time": "2024-10-01T04:37:59.121825",
     "exception": false,
     "start_time": "2024-10-01T04:37:58.914792",
     "status": "completed"
    },
    "tags": []
   },
   "outputs": [
    {
     "name": "stdout",
     "output_type": "stream",
     "text": [
      "bbc-news,BBC News,Finding Mr Fox: How a British man allegedly tricked Brazilian sailors into trafficking cocaine,The BBC sets out to find the man allegedly behind a plot to smuggle 1.2 tonnes of cocaine to Europe.,Such worries were far from their mind when they eventually embarked on their epic journey on 4 August 2017, the Brazilian coastline slowly receding behind them.\r\n",
      "With them were an additional crew mem… [+1535 chars],https://www.bbc.co.uk/news/articles/ce9j2nlgezvo,2024-09-30T04:07:16.5779701Z\n",
      "bbc-news,BBC News,US election polls tracker 2024: Who is ahead - Harris or Trump?,An in-depth look at the polls and what they can and can’t tell us about who will win the White House.,The figures we have used in the graphics above are averages created by polling analysis website 538, external, which is part of American news network ABC News. To create them, 538 collects the data f… [+430 chars],https://www.bbc.co.uk/news/articles/cj4x71znwxdo,2024-09-30T03:22:14.1870526Z\n",
      "bbc-news,BBC News,California governor Gavin Newsom vetoes landmark AI safety bill,The legislation would have imposed some of the first regulations on artificial  intelligence in the US.,The bill would have required the most advanced AI models to undergo safety testing.\r\n",
      "It would have forced developers to ensure their technology included a so-called \"kill switch\". A kill switch would… [+984 chars],https://www.bbc.co.uk/news/articles/cj9jwyr3kgeo,2024-09-30T03:07:13.2499997Z\n",
      "bbc-news,BBC News,SpaceX capsule docks at ISS to collect stranded astronauts,The craft will return Butch Wilmore and Suni Williams - stranded since June - to Earth.,The Dragon capsule lifted off from Cape Canaveral, Florida on Saturday carrying Nasa astronaut Nick Hague and Russian cosmonaut Alexander Gorbunov. \r\n",
      "Hague, who has done a previous stint on the ISS, … [+1665 chars],https://www.bbc.co.uk/news/articles/clylvz1ppdmo,2024-09-30T02:22:09.5938698Z\n",
      "bbc-news,BBC News,US country music star Kris Kristofferson dies, aged 88,The celebrated singer-songwriter was also famous for acting roles in A Star is Born and Blade.,Kris Kristofferson, the award-winning country singer and actor who worked with Johnny Cash and Martin Scorsese, has died aged 88. \r\n",
      "A representative said he passed away \"peacefully\" at his home in Ha… [+362 chars],https://www.bbc.co.uk/news/articles/cjwd69n7xxgo,2024-09-30T00:07:12.0311557Z\n",
      "bbc-news,BBC News,McDonald’s and supermarkets failed to spot slavery,Red flags went undetected as victims worked at a restaurant and a supermarket supplier, BBC finds.,The bakery company - Speciality Flatbread Ltd - ceased trading and went into administration in 2022.\r\n",
      "None of the supermarkets detected the slavery while victims worked at the factory between 2012 an… [+1638 chars],https://www.bbc.co.uk/news/articles/c2kdg84zj4wo,2024-09-29T23:52:12.3435478Z\n",
      "bbc-news,BBC News,Israeli strikes may have displaced million people - Lebanon PM,Lebanese PM Najib Mikati says it is \"the largest displacement movement that may have happened\" in his country.,Hezbollah confirmed on Sunday that top military commander Ali Karaki and a senior cleric, Sheikh Nabil Qaouk, had also been killed in the Israeli air strikes.\r\n",
      "\"We need to keep hitting Hezbollah hard… [+1747 chars],https://www.bbc.co.uk/news/articles/ckgveeyrl47o,2024-09-29T23:07:19.4221214Z\n",
      "bbc-news,BBC News,Austrian election: Kickl's far right heads for unprecedented victory,Austria's Freedom Party under Herbert Kickl is on course to win the vote, projections say.,Some 6.3 million Austrians were eligible to vote in a race dominated by the twin issues of migration and asylum, as well as inflation and the war in Ukraine.\r\n",
      "Freedom Party general secretary Michael … [+699 chars],https://www.bbc.co.uk/news/articles/c8rdygy5888o,2024-09-29T19:22:16.03047Z\n",
      "bbc-news,BBC News,Hurricane Helene leaves 'biblical devastation' in North Carolina,Homes are destroyed, towns are cut-off and power outages are affecting hundreds of thousands of people.,The search for survivors is ongoingand federal emergencies have been declared in sixstates, including Florida and Georgia.\r\n",
      "As of Sunday morning 63 people were confirmed to have died across five stat… [+1356 chars],https://www.bbc.co.uk/news/articles/cly5d9y07e3o,2024-09-29T16:22:12.6227198Z\n",
      "bbc-news,BBC News,Diego Garcia: What is on the secretive UK-US island?,BBC reporter gains access to the remote ocean territory despite UK and US attempts to stop her.,The base is also one of an extremely limited number of places worldwide available to reload submarines with weapons like Tomahawk missiles, says Mr Savill, and the US has positioned a large amount of… [+2743 chars],https://www.bbc.co.uk/news/articles/ckdg7jjlx2go,2024-09-29T12:37:17.9971742Z\n"
     ]
    },
    {
     "data": {
      "text/plain": [
       "{'status': 'ok',\n",
       " 'totalResults': 10,\n",
       " 'articles': [{'source': {'id': 'bbc-news', 'name': 'BBC News'},\n",
       "   'author': 'BBC News',\n",
       "   'title': 'Finding Mr Fox: How a British man allegedly tricked Brazilian sailors into trafficking cocaine',\n",
       "   'description': 'The BBC sets out to find the man allegedly behind a plot to smuggle 1.2 tonnes of cocaine to Europe.',\n",
       "   'url': 'https://www.bbc.co.uk/news/articles/ce9j2nlgezvo',\n",
       "   'urlToImage': 'https://ichef.bbci.co.uk/news/1024/branded_news/91c0/live/9393e770-7cea-11ef-b66d-034eed51208d.jpg',\n",
       "   'publishedAt': '2024-09-30T04:07:16.5779701Z',\n",
       "   'content': 'Such worries were far from their mind when they eventually embarked on their epic journey on 4 August 2017, the Brazilian coastline slowly receding behind them.\\r\\nWith them were an additional crew mem… [+1535 chars]'},\n",
       "  {'source': {'id': 'bbc-news', 'name': 'BBC News'},\n",
       "   'author': 'BBC News',\n",
       "   'title': 'US election polls tracker 2024: Who is ahead - Harris or Trump?',\n",
       "   'description': 'An in-depth look at the polls and what they can and can’t tell us about who will win the White House.',\n",
       "   'url': 'https://www.bbc.co.uk/news/articles/cj4x71znwxdo',\n",
       "   'urlToImage': 'https://ichef.bbci.co.uk/news/1024/branded_news/e457/live/d48d2d60-6f55-11ef-8c1a-df523ba43a9a.png',\n",
       "   'publishedAt': '2024-09-30T03:22:14.1870526Z',\n",
       "   'content': 'The figures we have used in the graphics above are averages created by polling analysis website 538, external, which is part of American news network ABC News. To create them, 538 collects the data f… [+430 chars]'},\n",
       "  {'source': {'id': 'bbc-news', 'name': 'BBC News'},\n",
       "   'author': 'BBC News',\n",
       "   'title': 'California governor Gavin Newsom vetoes landmark AI safety bill',\n",
       "   'description': 'The legislation would have imposed some of the first regulations on artificial  intelligence in the US.',\n",
       "   'url': 'https://www.bbc.co.uk/news/articles/cj9jwyr3kgeo',\n",
       "   'urlToImage': 'https://ichef.bbci.co.uk/news/1024/branded_news/4811/live/4eb86ec0-7ecd-11ef-ab57-61708990aa74.jpg',\n",
       "   'publishedAt': '2024-09-30T03:07:13.2499997Z',\n",
       "   'content': 'The bill would have required the most advanced AI models to undergo safety testing.\\r\\nIt would have forced developers to ensure their technology included a so-called \"kill switch\". A kill switch would… [+984 chars]'},\n",
       "  {'source': {'id': 'bbc-news', 'name': 'BBC News'},\n",
       "   'author': 'BBC News',\n",
       "   'title': 'SpaceX capsule docks at ISS to collect stranded astronauts',\n",
       "   'description': 'The craft will return Butch Wilmore and Suni Williams - stranded since June - to Earth.',\n",
       "   'url': 'https://www.bbc.co.uk/news/articles/clylvz1ppdmo',\n",
       "   'urlToImage': 'https://ichef.bbci.co.uk/news/1024/branded_news/8ad0/live/a3811b70-7ec1-11ef-84eb-0502361cd2e4.png',\n",
       "   'publishedAt': '2024-09-30T02:22:09.5938698Z',\n",
       "   'content': 'The Dragon capsule lifted off from Cape Canaveral, Florida on Saturday carrying Nasa astronaut Nick Hague and Russian cosmonaut Alexander Gorbunov. \\r\\nHague, who has done a previous stint on the ISS, … [+1665 chars]'},\n",
       "  {'source': {'id': 'bbc-news', 'name': 'BBC News'},\n",
       "   'author': 'BBC News',\n",
       "   'title': 'US country music star Kris Kristofferson dies, aged 88',\n",
       "   'description': 'The celebrated singer-songwriter was also famous for acting roles in A Star is Born and Blade.',\n",
       "   'url': 'https://www.bbc.co.uk/news/articles/cjwd69n7xxgo',\n",
       "   'urlToImage': 'https://ichef.bbci.co.uk/news/1024/branded_news/cc8a/live/2b7ddb60-7eba-11ef-b26d-916e0f5ee191.jpg',\n",
       "   'publishedAt': '2024-09-30T00:07:12.0311557Z',\n",
       "   'content': 'Kris Kristofferson, the award-winning country singer and actor who worked with Johnny Cash and Martin Scorsese, has died aged 88. \\r\\nA representative said he passed away \"peacefully\" at his home in Ha… [+362 chars]'},\n",
       "  {'source': {'id': 'bbc-news', 'name': 'BBC News'},\n",
       "   'author': 'BBC News',\n",
       "   'title': 'McDonald’s and supermarkets failed to spot slavery',\n",
       "   'description': 'Red flags went undetected as victims worked at a restaurant and a supermarket supplier, BBC finds.',\n",
       "   'url': 'https://www.bbc.co.uk/news/articles/c2kdg84zj4wo',\n",
       "   'urlToImage': 'https://ichef.bbci.co.uk/news/1024/branded_news/8a49/live/d62b4230-79b7-11ef-8547-c93707d8f8aa.png',\n",
       "   'publishedAt': '2024-09-29T23:52:12.3435478Z',\n",
       "   'content': 'The bakery company - Speciality Flatbread Ltd - ceased trading and went into administration in 2022.\\r\\nNone of the supermarkets detected the slavery while victims worked at the factory between 2012 an… [+1638 chars]'},\n",
       "  {'source': {'id': 'bbc-news', 'name': 'BBC News'},\n",
       "   'author': 'BBC News',\n",
       "   'title': 'Israeli strikes may have displaced million people - Lebanon PM',\n",
       "   'description': 'Lebanese PM Najib Mikati says it is \"the largest displacement movement that may have happened\" in his country.',\n",
       "   'url': 'https://www.bbc.co.uk/news/articles/ckgveeyrl47o',\n",
       "   'urlToImage': 'https://ichef.bbci.co.uk/news/1024/branded_news/727a/live/858dac20-7ea6-11ef-884e-8900e778039f.jpg',\n",
       "   'publishedAt': '2024-09-29T23:07:19.4221214Z',\n",
       "   'content': 'Hezbollah confirmed on Sunday that top military commander Ali Karaki and a senior cleric, Sheikh Nabil Qaouk, had also been killed in the Israeli air strikes.\\r\\n\"We need to keep hitting Hezbollah hard… [+1747 chars]'},\n",
       "  {'source': {'id': 'bbc-news', 'name': 'BBC News'},\n",
       "   'author': 'BBC News',\n",
       "   'title': \"Austrian election: Kickl's far right heads for unprecedented victory\",\n",
       "   'description': \"Austria's Freedom Party under Herbert Kickl is on course to win the vote, projections say.\",\n",
       "   'url': 'https://www.bbc.co.uk/news/articles/c8rdygy5888o',\n",
       "   'urlToImage': 'https://ichef.bbci.co.uk/news/1024/branded_news/2aa8/live/b90f1350-7e6e-11ef-a4d3-09b59abdbf71.jpg',\n",
       "   'publishedAt': '2024-09-29T19:22:16.03047Z',\n",
       "   'content': 'Some 6.3 million Austrians were eligible to vote in a race dominated by the twin issues of migration and asylum, as well as inflation and the war in Ukraine.\\r\\nFreedom Party general secretary Michael … [+699 chars]'},\n",
       "  {'source': {'id': 'bbc-news', 'name': 'BBC News'},\n",
       "   'author': 'BBC News',\n",
       "   'title': \"Hurricane Helene leaves 'biblical devastation' in North Carolina\",\n",
       "   'description': 'Homes are destroyed, towns are cut-off and power outages are affecting hundreds of thousands of people.',\n",
       "   'url': 'https://www.bbc.co.uk/news/articles/cly5d9y07e3o',\n",
       "   'urlToImage': 'https://ichef.bbci.co.uk/news/1024/branded_news/dd1f/live/46517c70-7e7a-11ef-bda7-e1427314c99f.jpg',\n",
       "   'publishedAt': '2024-09-29T16:22:12.6227198Z',\n",
       "   'content': 'The search for survivors is ongoingand federal emergencies have been declared in sixstates, including Florida and Georgia.\\r\\nAs of Sunday morning 63 people were confirmed to have died across five stat… [+1356 chars]'},\n",
       "  {'source': {'id': 'bbc-news', 'name': 'BBC News'},\n",
       "   'author': 'BBC News',\n",
       "   'title': 'Diego Garcia: What is on the secretive UK-US island?',\n",
       "   'description': 'BBC reporter gains access to the remote ocean territory despite UK and US attempts to stop her.',\n",
       "   'url': 'https://www.bbc.co.uk/news/articles/ckdg7jjlx2go',\n",
       "   'urlToImage': 'https://ichef.bbci.co.uk/news/1024/branded_news/cefc/live/8f02ceb0-7d7b-11ef-bf4b-ef19cfbf3842.jpg',\n",
       "   'publishedAt': '2024-09-29T12:37:17.9971742Z',\n",
       "   'content': 'The base is also one of an extremely limited number of places worldwide available to reload submarines with weapons like Tomahawk missiles, says Mr Savill, and the US has positioned a large amount of… [+2743 chars]'}]}"
      ]
     },
     "execution_count": 6,
     "metadata": {},
     "output_type": "execute_result"
    }
   ],
   "source": [
    "# Author: Ardit Sulce, Automate Everything with Python, Udemy\n",
    "# Course URL: https://www.udemy.com/course/automate-everything-with-python/\n",
    "\n",
    "def get_news():\n",
    "    url = f\"https://newsapi.org/v2/top-headlines?sources=bbc-news&apiKey=ff7759809f2f4a968927d6f71545ab91\"\n",
    "    r = requests.get(url)\n",
    "    content = r.json()\n",
    "    #### Write to txt file\n",
    "    with open('/kaggle/working/datafile.txt','w') as file:\n",
    "        for i in content['articles']:\n",
    "            Temp_buff = i['source']['id'] + \",\" + i['source']['name'] + \",\" + i['title'] + \",\" + i['description'] + \",\" + i['content'] + \",\" + i['url'] + \",\" + i['publishedAt']\n",
    "            print(Temp_buff)\n",
    "            file.write(f\"{Temp_buff}\\n\\n\")\n",
    "            #file.write(f\"{i['source']['id'],i['source']['name'],i['title'],i['description'],i['content'],i['url'],i['publishedAt']}\\n\\n\")\n",
    "    return(content)\n",
    "\n",
    "get_news()"
   ]
  },
  {
   "cell_type": "code",
   "execution_count": 7,
   "id": "8d0d51b3",
   "metadata": {
    "execution": {
     "iopub.execute_input": "2024-10-01T04:37:59.133027Z",
     "iopub.status.busy": "2024-10-01T04:37:59.132575Z",
     "iopub.status.idle": "2024-10-01T04:37:59.138646Z",
     "shell.execute_reply": "2024-10-01T04:37:59.137466Z"
    },
    "papermill": {
     "duration": 0.015437,
     "end_time": "2024-10-01T04:37:59.141918",
     "exception": false,
     "start_time": "2024-10-01T04:37:59.126481",
     "status": "completed"
    },
    "tags": []
   },
   "outputs": [
    {
     "name": "stdout",
     "output_type": "stream",
     "text": [
      "BBC News\n"
     ]
    }
   ],
   "source": [
    "print(content['articles'][0]['source']['name'])"
   ]
  },
  {
   "cell_type": "code",
   "execution_count": 8,
   "id": "eefd2ce0",
   "metadata": {
    "execution": {
     "iopub.execute_input": "2024-10-01T04:37:59.154315Z",
     "iopub.status.busy": "2024-10-01T04:37:59.153865Z",
     "iopub.status.idle": "2024-10-01T04:37:59.159751Z",
     "shell.execute_reply": "2024-10-01T04:37:59.158602Z"
    },
    "papermill": {
     "duration": 0.014987,
     "end_time": "2024-10-01T04:37:59.162310",
     "exception": false,
     "start_time": "2024-10-01T04:37:59.147323",
     "status": "completed"
    },
    "tags": []
   },
   "outputs": [],
   "source": [
    "#Remove unnecessary txt files\n",
    "file = '/kaggle/working/datafile.txt'\n",
    "os.remove(file) "
   ]
  }
 ],
 "metadata": {
  "kaggle": {
   "accelerator": "none",
   "dataSources": [],
   "dockerImageVersionId": 30775,
   "isGpuEnabled": false,
   "isInternetEnabled": true,
   "language": "python",
   "sourceType": "notebook"
  },
  "kernelspec": {
   "display_name": "Python 3",
   "language": "python",
   "name": "python3"
  },
  "language_info": {
   "codemirror_mode": {
    "name": "ipython",
    "version": 3
   },
   "file_extension": ".py",
   "mimetype": "text/x-python",
   "name": "python",
   "nbconvert_exporter": "python",
   "pygments_lexer": "ipython3",
   "version": "3.10.14"
  },
  "papermill": {
   "default_parameters": {},
   "duration": 4.232223,
   "end_time": "2024-10-01T04:37:59.588235",
   "environment_variables": {},
   "exception": null,
   "input_path": "__notebook__.ipynb",
   "output_path": "__notebook__.ipynb",
   "parameters": {},
   "start_time": "2024-10-01T04:37:55.356012",
   "version": "2.6.0"
  }
 },
 "nbformat": 4,
 "nbformat_minor": 5
}
